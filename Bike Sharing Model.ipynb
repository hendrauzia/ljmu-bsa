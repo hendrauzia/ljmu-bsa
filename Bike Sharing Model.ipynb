{
 "cells": [
  {
   "cell_type": "markdown",
   "metadata": {},
   "source": [
    "# Table of Contents\n",
    "\n",
    "1. <a href=\"#1.-Data-Understanding,-Preparation-&-EDA\">Data Understanding, Preparation & EDA</a>\n",
    "  1. <a href=\"#1.1.-Data-Quality-Checks\">Data Quality Checks</a>\n",
    "    1. <a href=\"#1.1.1.-Data-Types\">Data Types</a>\n",
    "    2. <a href=\"#1.1.2.-Null/NA-Values\">Null/NA Values</a>\n",
    "    3. <a href=\"#1.1.3.-Data-Duplications\">Data Duplications</a>\n",
    "    4. <a href=\"#1.1.4.-Irrelevant-Columns\">Irrelevant Columns</a>\n",
    "    5. <a href=\"#1.1.5.-Shape-of-Distribution\">Shape of Distribution</a>\n",
    "  2. <a href=\"#1.2.-Categorical-Variables\">Categorical Variables</a>\n",
    "    1. <a href=\"#1.2.1.-Fix-Season-Data\">Fix Season Data</a>\n",
    "    2. <a href=\"#1.2.2.-Fix-Weather-Data\">Fix Weather Data</a>\n",
    "  3. <a href=\"#1.3.-Dummy-Variables\">Dummy Variables</a>\n",
    "    1. <a href=\"#1.3.1.-Season-Dummy-Variables\">Season Dummy Variables</a>\n",
    "    2. <a href=\"#1.3.2.-Weather-Dummy-Variables\">Weather Dummy Variables</a>\n",
    "  4. <a href=\"#1.4.-Derived-Metrics\">Derived Metrics</a>\n",
    "    1. <a href=\"#1.4.1.-Ratios\">Ratios</a>\n",
    "    2. <a href=\"#1.4.2.-Weathers\">Weathers</a>\n",
    "    3. <a href=\"#1.4.3.-Dates\">Dates</a>\n",
    "  5. <a href=\"#1.5.-Data-Cleaning\">Data Cleaning</a>\n",
    "    1. <a href=\"#1.5.1.-Remove-Columns\">Remove Columns</a>\n",
    "2. <a href=\"#2.-Model-Building-and-Evaluation\">Model Building and Evaluation</a>\n",
    "  1. <a href=\"#2.1.-Parameter-Tuning\">Parameter Tuning</a>\n",
    "    1. <a href=\"#2.1.1.-Simple-Linear-Regression\">Simple Linear Regression</a>\n",
    "    2. <a href=\"#2.1.2.-Multiple-Linear-Regression\">Multiple Linear Regression</a>\n",
    "  2. <a href=\"#2.2.-Variable-Selection\">Variable Selection</a>\n",
    "    1. <a href=\"#2.2.1.-Multiple-Linear-Regression-with-VIF\">Multiple Linear Regression with VIF</a>\n",
    "    2. <a href=\"#2.2.2.-Multiple-Linear-Regression-with-RFE\">Multiple Linear Regression with RFE</a>\n",
    "  3. <a href=\"#2.3.-Model-Selection\">Model Selection</a>\n",
    "    1. <a href=\"#2.3.1.-Potential-Models\">Potential Models</a>\n",
    "    2. <a href=\"#2.3.2.-Best-Possible-Model\">Best Possible Model</a>\n",
    "  4. <a href=\"#2.4.-Model-Evaluation\">Model Evaluation</a>\n",
    "    1. <a href=\"#2.4.1.-Residual-Analysis\">Residual Analysis</a>\n",
    "    2. <a href=\"#2.4.2.-Model-Prediction\">Model Prediction</a>\n",
    "    3. <a href=\"#2.4.3.-Model-Interpretation\">Model Interpretation</a>"
   ]
  },
  {
   "cell_type": "markdown",
   "metadata": {},
   "source": [
    "# 1. Data Understanding, Preparation & EDA"
   ]
  },
  {
   "cell_type": "markdown",
   "metadata": {},
   "source": [
    "The following statements installs packages that doesn't exists in default installation of jupyter notebooks."
   ]
  },
  {
   "cell_type": "code",
   "execution_count": 1,
   "metadata": {},
   "outputs": [],
   "source": [
    "%%capture\n",
    "\n",
    "import sys\n",
    "\n",
    "!{sys.executable} -m pip install metpy"
   ]
  },
  {
   "cell_type": "markdown",
   "metadata": {},
   "source": [
    "The following statements will import the required libraries:\n",
    "- `matplotlib.pyplot`, used to display the plot.\n",
    "- `metpy`, used to calculate weather data, e.g. apparent temperature, heat index and windchill.\n",
    "- `numpy`, used to perform high performance mathematical calculation.\n",
    "- `pandas`, used to read the csv and perform analysis on it.\n",
    "- `seaborn`, used to create plots and charts.\n",
    "- `sklearn`, used to create machine learning model.\n",
    "- `statsmodels`, used to calculate variance inflation factor."
   ]
  },
  {
   "cell_type": "code",
   "execution_count": 2,
   "metadata": {},
   "outputs": [],
   "source": [
    "import matplotlib.pyplot as plt\n",
    "import metpy.calc as mpcalc\n",
    "import numpy as np\n",
    "import pandas as pd\n",
    "import seaborn as sns\n",
    "\n",
    "from metpy.units import units\n",
    "from sklearn.model_selection import train_test_split\n",
    "from sklearn.feature_selection import RFE\n",
    "from sklearn.linear_model import LinearRegression\n",
    "from sklearn.preprocessing import MinMaxScaler\n",
    "from statsmodels.stats.outliers_influence import variance_inflation_factor"
   ]
  },
  {
   "cell_type": "markdown",
   "metadata": {},
   "source": [
    "Lets read our data with the data type inferred automatically by pandas."
   ]
  },
  {
   "cell_type": "code",
   "execution_count": 3,
   "metadata": {},
   "outputs": [],
   "source": [
    "df = pd.read_csv('dataset/day.csv')"
   ]
  },
  {
   "cell_type": "markdown",
   "metadata": {},
   "source": [
    "## 1.1. Data Quality Checks"
   ]
  },
  {
   "cell_type": "markdown",
   "metadata": {},
   "source": [
    "### 1.1.1. Data Types"
   ]
  },
  {
   "cell_type": "markdown",
   "metadata": {},
   "source": [
    "Lets take a look at our data and data types if they represented accordingly."
   ]
  },
  {
   "cell_type": "code",
   "execution_count": 4,
   "metadata": {},
   "outputs": [
    {
     "data": {
      "text/html": [
       "<div>\n",
       "<style scoped>\n",
       "    .dataframe tbody tr th:only-of-type {\n",
       "        vertical-align: middle;\n",
       "    }\n",
       "\n",
       "    .dataframe tbody tr th {\n",
       "        vertical-align: top;\n",
       "    }\n",
       "\n",
       "    .dataframe thead th {\n",
       "        text-align: right;\n",
       "    }\n",
       "</style>\n",
       "<table border=\"1\" class=\"dataframe\">\n",
       "  <thead>\n",
       "    <tr style=\"text-align: right;\">\n",
       "      <th></th>\n",
       "      <th>instant</th>\n",
       "      <th>dteday</th>\n",
       "      <th>season</th>\n",
       "      <th>yr</th>\n",
       "      <th>mnth</th>\n",
       "      <th>holiday</th>\n",
       "      <th>weekday</th>\n",
       "      <th>workingday</th>\n",
       "      <th>weathersit</th>\n",
       "      <th>temp</th>\n",
       "      <th>atemp</th>\n",
       "      <th>hum</th>\n",
       "      <th>windspeed</th>\n",
       "      <th>casual</th>\n",
       "      <th>registered</th>\n",
       "      <th>cnt</th>\n",
       "    </tr>\n",
       "  </thead>\n",
       "  <tbody>\n",
       "    <tr>\n",
       "      <th>0</th>\n",
       "      <td>1</td>\n",
       "      <td>01-01-2018</td>\n",
       "      <td>1</td>\n",
       "      <td>0</td>\n",
       "      <td>1</td>\n",
       "      <td>0</td>\n",
       "      <td>6</td>\n",
       "      <td>0</td>\n",
       "      <td>2</td>\n",
       "      <td>14.110847</td>\n",
       "      <td>18.18125</td>\n",
       "      <td>80.5833</td>\n",
       "      <td>10.749882</td>\n",
       "      <td>331</td>\n",
       "      <td>654</td>\n",
       "      <td>985</td>\n",
       "    </tr>\n",
       "    <tr>\n",
       "      <th>1</th>\n",
       "      <td>2</td>\n",
       "      <td>02-01-2018</td>\n",
       "      <td>1</td>\n",
       "      <td>0</td>\n",
       "      <td>1</td>\n",
       "      <td>0</td>\n",
       "      <td>0</td>\n",
       "      <td>0</td>\n",
       "      <td>2</td>\n",
       "      <td>14.902598</td>\n",
       "      <td>17.68695</td>\n",
       "      <td>69.6087</td>\n",
       "      <td>16.652113</td>\n",
       "      <td>131</td>\n",
       "      <td>670</td>\n",
       "      <td>801</td>\n",
       "    </tr>\n",
       "    <tr>\n",
       "      <th>2</th>\n",
       "      <td>3</td>\n",
       "      <td>03-01-2018</td>\n",
       "      <td>1</td>\n",
       "      <td>0</td>\n",
       "      <td>1</td>\n",
       "      <td>0</td>\n",
       "      <td>1</td>\n",
       "      <td>1</td>\n",
       "      <td>1</td>\n",
       "      <td>8.050924</td>\n",
       "      <td>9.47025</td>\n",
       "      <td>43.7273</td>\n",
       "      <td>16.636703</td>\n",
       "      <td>120</td>\n",
       "      <td>1229</td>\n",
       "      <td>1349</td>\n",
       "    </tr>\n",
       "    <tr>\n",
       "      <th>3</th>\n",
       "      <td>4</td>\n",
       "      <td>04-01-2018</td>\n",
       "      <td>1</td>\n",
       "      <td>0</td>\n",
       "      <td>1</td>\n",
       "      <td>0</td>\n",
       "      <td>2</td>\n",
       "      <td>1</td>\n",
       "      <td>1</td>\n",
       "      <td>8.200000</td>\n",
       "      <td>10.60610</td>\n",
       "      <td>59.0435</td>\n",
       "      <td>10.739832</td>\n",
       "      <td>108</td>\n",
       "      <td>1454</td>\n",
       "      <td>1562</td>\n",
       "    </tr>\n",
       "    <tr>\n",
       "      <th>4</th>\n",
       "      <td>5</td>\n",
       "      <td>05-01-2018</td>\n",
       "      <td>1</td>\n",
       "      <td>0</td>\n",
       "      <td>1</td>\n",
       "      <td>0</td>\n",
       "      <td>3</td>\n",
       "      <td>1</td>\n",
       "      <td>1</td>\n",
       "      <td>9.305237</td>\n",
       "      <td>11.46350</td>\n",
       "      <td>43.6957</td>\n",
       "      <td>12.522300</td>\n",
       "      <td>82</td>\n",
       "      <td>1518</td>\n",
       "      <td>1600</td>\n",
       "    </tr>\n",
       "  </tbody>\n",
       "</table>\n",
       "</div>"
      ],
      "text/plain": [
       "   instant      dteday  season  yr  mnth  holiday  weekday  workingday  \\\n",
       "0        1  01-01-2018       1   0     1        0        6           0   \n",
       "1        2  02-01-2018       1   0     1        0        0           0   \n",
       "2        3  03-01-2018       1   0     1        0        1           1   \n",
       "3        4  04-01-2018       1   0     1        0        2           1   \n",
       "4        5  05-01-2018       1   0     1        0        3           1   \n",
       "\n",
       "   weathersit       temp     atemp      hum  windspeed  casual  registered  \\\n",
       "0           2  14.110847  18.18125  80.5833  10.749882     331         654   \n",
       "1           2  14.902598  17.68695  69.6087  16.652113     131         670   \n",
       "2           1   8.050924   9.47025  43.7273  16.636703     120        1229   \n",
       "3           1   8.200000  10.60610  59.0435  10.739832     108        1454   \n",
       "4           1   9.305237  11.46350  43.6957  12.522300      82        1518   \n",
       "\n",
       "    cnt  \n",
       "0   985  \n",
       "1   801  \n",
       "2  1349  \n",
       "3  1562  \n",
       "4  1600  "
      ]
     },
     "execution_count": 4,
     "metadata": {},
     "output_type": "execute_result"
    }
   ],
   "source": [
    "df.head()"
   ]
  },
  {
   "cell_type": "code",
   "execution_count": 5,
   "metadata": {},
   "outputs": [
    {
     "data": {
      "text/plain": [
       "instant         int64\n",
       "dteday         object\n",
       "season          int64\n",
       "yr              int64\n",
       "mnth            int64\n",
       "holiday         int64\n",
       "weekday         int64\n",
       "workingday      int64\n",
       "weathersit      int64\n",
       "temp          float64\n",
       "atemp         float64\n",
       "hum           float64\n",
       "windspeed     float64\n",
       "casual          int64\n",
       "registered      int64\n",
       "cnt             int64\n",
       "dtype: object"
      ]
     },
     "execution_count": 5,
     "metadata": {},
     "output_type": "execute_result"
    }
   ],
   "source": [
    "df.dtypes"
   ]
  },
  {
   "cell_type": "markdown",
   "metadata": {},
   "source": [
    "#### Categorical Columns"
   ]
  },
  {
   "cell_type": "markdown",
   "metadata": {},
   "source": [
    "There are columns that has varying data, even though the values are of integers, but they provide no particular order when reading from the data description, and therefore we must treat them as categorical columns.\n",
    "\n",
    "1. season : season (1:spring, 2:summer, 3:fall, 4:winter)\n",
    "2. weathersit : \n",
    "  1. 1: Clear, Few clouds, Partly cloudy, Partly cloudy\n",
    "  2. 2: Mist + Cloudy, Mist + Broken clouds, Mist + Few clouds, Mist\n",
    "  3. 3: Light Snow, Light Rain + Thunderstorm + Scattered clouds, Light Rain + Scattered clouds\n",
    "  4. 4: Heavy Rain + Ice Pallets + Thunderstorm + Mist, Snow + Fog\n",
    "\n",
    "Even if we know the fact that the season are in particular order in a year, given that in a year, the first season is spring, then comes summer, later on comes fall, finally comes winter, but as for the data, it makes no sense to order the data based on the season as they don't provide some sort of ranking.\n",
    "\n",
    "On the other hand, the weather feels like clear is better than mist, which is better than light show,  which is better than heavy rain, but again, it makes no sense ordering the data by the weather because they don't provide some sort of ranking.\n",
    "\n",
    "We would have to deal with this issue on the later sections."
   ]
  },
  {
   "cell_type": "markdown",
   "metadata": {},
   "source": [
    "#### Date Type"
   ]
  },
  {
   "cell_type": "markdown",
   "metadata": {},
   "source": [
    "We can also see that `dteday` values are of date type, but the inferred data type is defined as an object, this is a missclasification done by pandas, therefore we would have to investigate further why that happen and treat the column as date type instead, we will deal with this issue on the later sections."
   ]
  },
  {
   "cell_type": "code",
   "execution_count": 6,
   "metadata": {},
   "outputs": [
    {
     "data": {
      "text/plain": [
       "0    01-01-2018\n",
       "1    02-01-2018\n",
       "2    03-01-2018\n",
       "3    04-01-2018\n",
       "4    05-01-2018\n",
       "Name: dteday, dtype: object"
      ]
     },
     "execution_count": 6,
     "metadata": {},
     "output_type": "execute_result"
    }
   ],
   "source": [
    "df.dteday.head()"
   ]
  },
  {
   "cell_type": "markdown",
   "metadata": {},
   "source": [
    "### 1.1.2. Null/NA Values"
   ]
  },
  {
   "cell_type": "markdown",
   "metadata": {},
   "source": [
    "Lets evaluate our data by checking their data type accordingly and how many nulls are there in our data set, in pandas `isnull` is alias for `isna`, therefore running both of them would yield the same result."
   ]
  },
  {
   "cell_type": "code",
   "execution_count": 7,
   "metadata": {},
   "outputs": [
    {
     "data": {
      "text/plain": [
       "instant       0\n",
       "dteday        0\n",
       "season        0\n",
       "yr            0\n",
       "mnth          0\n",
       "holiday       0\n",
       "weekday       0\n",
       "workingday    0\n",
       "weathersit    0\n",
       "temp          0\n",
       "atemp         0\n",
       "hum           0\n",
       "windspeed     0\n",
       "casual        0\n",
       "registered    0\n",
       "cnt           0\n",
       "dtype: int64"
      ]
     },
     "execution_count": 7,
     "metadata": {},
     "output_type": "execute_result"
    }
   ],
   "source": [
    "df.isnull().sum()"
   ]
  },
  {
   "cell_type": "markdown",
   "metadata": {},
   "source": [
    "We can see that there are no nulls, therefore no action item is needed."
   ]
  },
  {
   "cell_type": "markdown",
   "metadata": {},
   "source": [
    "### 1.1.3. Data Duplications"
   ]
  },
  {
   "cell_type": "markdown",
   "metadata": {},
   "source": [
    "Lets see if we have any duplications in our data by looking at the whole columns."
   ]
  },
  {
   "cell_type": "code",
   "execution_count": 8,
   "metadata": {},
   "outputs": [
    {
     "data": {
      "text/plain": [
       "False    730\n",
       "dtype: int64"
      ]
     },
     "execution_count": 8,
     "metadata": {},
     "output_type": "execute_result"
    }
   ],
   "source": [
    "df.duplicated().value_counts()"
   ]
  },
  {
   "cell_type": "markdown",
   "metadata": {},
   "source": [
    "We can see that of all 730 rows of data, there are no duplications across all columns, therefore we can say each row is unique. Our data has some kind of identifier column called `instant`, lets see if there is any duplication on that particular column."
   ]
  },
  {
   "cell_type": "code",
   "execution_count": 9,
   "metadata": {},
   "outputs": [
    {
     "data": {
      "text/plain": [
       "False    730\n",
       "dtype: int64"
      ]
     },
     "execution_count": 9,
     "metadata": {},
     "output_type": "execute_result"
    }
   ],
   "source": [
    "df.duplicated(subset=['instant']).value_counts()"
   ]
  },
  {
   "cell_type": "markdown",
   "metadata": {},
   "source": [
    "There are no duplication within our identifier, now lets see if we have duplication excluding our identifier column."
   ]
  },
  {
   "cell_type": "code",
   "execution_count": 10,
   "metadata": {},
   "outputs": [
    {
     "data": {
      "text/plain": [
       "False    730\n",
       "dtype: int64"
      ]
     },
     "execution_count": 10,
     "metadata": {},
     "output_type": "execute_result"
    }
   ],
   "source": [
    "df.drop(['instant'], axis=1).duplicated().value_counts()"
   ]
  },
  {
   "cell_type": "markdown",
   "metadata": {},
   "source": [
    "Of all 730 rows, there are no duplication within our dataset."
   ]
  },
  {
   "cell_type": "markdown",
   "metadata": {},
   "source": [
    "### 1.1.4. Irrelevant Columns"
   ]
  },
  {
   "cell_type": "markdown",
   "metadata": {},
   "source": [
    "#### Identifier Column"
   ]
  },
  {
   "cell_type": "markdown",
   "metadata": {},
   "source": [
    "Identifier column is of no use in the process of creating the model as they are unique values and sequentially generated, we better use other variable as a proxy to this if we were to create a model with some sort of sequential information. Other column that can be used as a proxy to this column is `dteday`, and we also have the month value extracted in `mnth`, therefore lets see their relationship againts our target column `cnt`."
   ]
  },
  {
   "cell_type": "code",
   "execution_count": 11,
   "metadata": {},
   "outputs": [
    {
     "data": {
      "image/png": "[encoded data removed]",
      "text/plain": [
       "<Figure size 1944x288 with 5 Axes>"
      ]
     },
     "metadata": {
      "needs_background": "light"
     },
     "output_type": "display_data"
    }
   ],
   "source": [
    "fig, axes = plt.subplots(1, 5, figsize=(27, 4))\n",
    "\n",
    "# Lets see the histogram of the column.\n",
    "df.instant.hist(ax=axes[0])\n",
    "\n",
    "# Now lets see its relationship with the target variable.\n",
    "df.plot.scatter(x='instant', y='cnt', ax=axes[1])\n",
    "\n",
    "# Lets see how the date interacts with the target variable.\n",
    "df.plot.scatter(x='dteday', y='cnt',ax=axes[2]).set_xticklabels([])\n",
    "\n",
    "# Lets see how its relationsip with month\n",
    "df.plot.scatter(x='instant', y='mnth',ax=axes[3])\n",
    "\n",
    "# Lets see how month's relationship with the target variable\n",
    "df.plot.scatter(x='mnth', y='cnt',ax=axes[4])\n",
    "\n",
    "plt.show()"
   ]
  },
  {
   "cell_type": "markdown",
   "metadata": {},
   "source": [
    "From the above chart, we can conclude that:\n",
    "\n",
    "- It reveals uniform distribution.\n",
    "- It has non-linear relationship with the target column.\n",
    "- Month has exactly the same non-linear relationship with the target column as the identifier column.\n",
    "- It has linear relationship with month.\n",
    "- Month has non-linear relationship with the target column.\n",
    "\n",
    "It is clear that `instant` can be considered as irrelevant column and other columns can be used as a proxy to this value."
   ]
  },
  {
   "cell_type": "markdown",
   "metadata": {},
   "source": [
    "#### Date Column"
   ]
  },
  {
   "cell_type": "markdown",
   "metadata": {},
   "source": [
    "Previously we can see that scatter plot of `dteday` and `instant` are identical, this is because both of them have distinct values, and therefore behave the same and appears to be identical, lets take a look again at their scatter plot."
   ]
  },
  {
   "cell_type": "code",
   "execution_count": 12,
   "metadata": {},
   "outputs": [
    {
     "data": {
      "image/png": "[encoded data removed]",
      "text/plain": [
       "<Figure size 576x216 with 2 Axes>"
      ]
     },
     "metadata": {
      "needs_background": "light"
     },
     "output_type": "display_data"
    }
   ],
   "source": [
    "fig, axes = plt.subplots(1, 2, figsize=(8, 3))\n",
    "\n",
    "# Lets see the histogram of the column.\n",
    "df.instant.hist(ax=axes[0])\n",
    "\n",
    "# Now lets see its relationship with the target variable.\n",
    "df.plot.scatter(x='instant', y='cnt', ax=axes[0])\n",
    "\n",
    "# Lets see how the date interacts with the target variable.\n",
    "df.plot.scatter(x='dteday', y='cnt',ax=axes[1]).set_xticklabels([])\n",
    "\n",
    "plt.show()"
   ]
  },
  {
   "cell_type": "markdown",
   "metadata": {},
   "source": [
    "To confirm that they have distinct values, lets count their values."
   ]
  },
  {
   "cell_type": "code",
   "execution_count": 13,
   "metadata": {},
   "outputs": [
    {
     "data": {
      "text/plain": [
       "28-11-2018    1\n",
       "17-01-2019    1\n",
       "11-07-2018    1\n",
       "09-06-2018    1\n",
       "20-09-2018    1\n",
       "             ..\n",
       "03-08-2018    1\n",
       "26-09-2018    1\n",
       "14-10-2019    1\n",
       "06-10-2018    1\n",
       "05-03-2018    1\n",
       "Name: dteday, Length: 730, dtype: int64"
      ]
     },
     "execution_count": 13,
     "metadata": {},
     "output_type": "execute_result"
    }
   ],
   "source": [
    "df.dteday.value_counts()"
   ]
  },
  {
   "cell_type": "markdown",
   "metadata": {},
   "source": [
    "As we can see the length of the value counts are 730, this is the same with the total number of rows, that means `dteday` behave like identifier column. But, this column contains significant information, luckily we already have some of them extracted, such as: `yr`, `mnth`, and `weekday`, even some information beyond that have been extracted, such as: `holiday` and `workingday`, but we still have one information missing, that is day of the month, later on we will create information to be derived from this column before cleaning it up."
   ]
  },
  {
   "cell_type": "markdown",
   "metadata": {},
   "source": [
    "#### Subsets of Target Column"
   ]
  },
  {
   "cell_type": "markdown",
   "metadata": {},
   "source": [
    "There are columns that are of no use to our model creation because they are in fact subsets of the target column, they are `casual` and `registered`, the total of both columns make up our target column that is `cnt`."
   ]
  },
  {
   "cell_type": "code",
   "execution_count": 14,
   "metadata": {},
   "outputs": [
    {
     "data": {
      "image/png": "[encoded data removed]",
      "text/plain": [
       "<Figure size 2160x288 with 9 Axes>"
      ]
     },
     "metadata": {
      "needs_background": "light"
     },
     "output_type": "display_data"
    }
   ],
   "source": [
    "fig, axes = plt.subplots(1, 6, figsize=(30,4))\n",
    "\n",
    "df[['cnt']].hist(ax=axes[0], bins=20)\n",
    "df[['registered']].hist(ax=axes[1], bins=20)\n",
    "df[['casual']].hist(ax=axes[2], bins=20)\n",
    "\n",
    "df.plot.scatter(x='casual', y='cnt', c='weekday', colormap='viridis', ax=axes[3])\n",
    "df.plot.scatter(x='registered', y='cnt', c='weekday', colormap='viridis', ax=axes[4])\n",
    "df.plot.scatter(x='casual', y='registered', c='weekday', colormap='viridis', ax=axes[5])\n",
    "\n",
    "plt.show()"
   ]
  },
  {
   "cell_type": "markdown",
   "metadata": {},
   "source": [
    "From the above chart we can see that:\n",
    "\n",
    "- Distribition of `registered` resembles closely with `cnt`.\n",
    "- Distribution of `casual` skewed to the right, it may provide some kind of useful insights.\n",
    "- Both `casual` and `registered` shows positive linear correlation with `cnt`.\n",
    "- There are other variables affecting the linearity, one of them is `weekday`.\n",
    "- There is positive linear correlation between `casual` and `registered`, but other variable maybe in effect.\n",
    "\n",
    "The actual values of `registered` and `casual` may be of no use to our model, but they still provide usefull insights, we will deal with this issue in the later sections of the notebook."
   ]
  },
  {
   "cell_type": "markdown",
   "metadata": {},
   "source": [
    "### 1.1.5. Shape of Distribution"
   ]
  },
  {
   "cell_type": "markdown",
   "metadata": {},
   "source": [
    "#### Data Distributions"
   ]
  },
  {
   "cell_type": "markdown",
   "metadata": {},
   "source": [
    "To have a visual perspective of the distribution of our dataset, lets plot histogram chart over them all."
   ]
  },
  {
   "cell_type": "code",
   "execution_count": 15,
   "metadata": {},
   "outputs": [
    {
     "data": {
      "image/png": "[encoded data removed]",
      "text/plain": [
       "<Figure size 1440x720 with 16 Axes>"
      ]
     },
     "metadata": {
      "needs_background": "light"
     },
     "output_type": "display_data"
    }
   ],
   "source": [
    "df.hist(figsize=(20,10), bins=20); plt.show()"
   ]
  },
  {
   "cell_type": "markdown",
   "metadata": {},
   "source": [
    "Visually, we can see some observations as follows:\n",
    "\n",
    "- Some columns reveal uniform distributions, e.g. instant, season, yr, mnth, & weekday.\n",
    "- Some columns have identical distributions, e.g. temp & atemp, registered & cnt.\n",
    "- Some columns have skews, e.g. holiday, workingday, weathersit, hum, windspeed & casual.\n",
    "\n",
    "Out of all the columns, visually there are no immediate concerns that we need to handle, all of the distributions are in a good shape."
   ]
  },
  {
   "cell_type": "markdown",
   "metadata": {},
   "source": [
    "#### Data Outliers"
   ]
  },
  {
   "cell_type": "markdown",
   "metadata": {},
   "source": [
    "Lets see if our data have some sort of outliers by ploting a boxplot only on non-categorical and non-uniform columns, as to the categorical columns and uniformly distributed columns would definitely has no outliers. But we would split them in two plots, that is because we have columns with very different range."
   ]
  },
  {
   "cell_type": "code",
   "execution_count": 16,
   "metadata": {},
   "outputs": [
    {
     "data": {
      "image/png": "[encoded data removed]",
      "text/plain": [
       "<Figure size 1440x360 with 2 Axes>"
      ]
     },
     "metadata": {
      "needs_background": "light"
     },
     "output_type": "display_data"
    }
   ],
   "source": [
    "fig, axes = plt.subplots(1, 2, figsize=(20,5))\n",
    "\n",
    "df[['temp', 'atemp', 'hum', 'windspeed']].boxplot(ax=axes[0])\n",
    "df[['casual', 'registered', 'cnt']].boxplot(ax=axes[1])\n",
    "\n",
    "plt.show()"
   ]
  },
  {
   "cell_type": "markdown",
   "metadata": {},
   "source": [
    "On the left is boxplot of temp, atemp, hum and windspeed with range of 40-100, and on the right is casual, registered and cnt with range of 4000-9000, we can see clearly in both plots there are no significant outliers, all of the data are still within a considerably close proximity with the interquartile range, therefore nothing needs to be done with regards of the outlier."
   ]
  },
  {
   "cell_type": "markdown",
   "metadata": {},
   "source": [
    "#### Data Skewness"
   ]
  },
  {
   "cell_type": "markdown",
   "metadata": {},
   "source": [
    "In order to measure the distribution in a quantifiable manner, we need to look at the data skewness, its a measurement of how symmetrical is the distribution. A general guideline would be for values greater than +1, or lower than -1, it means that it there is a substantial skewness in the distribution."
   ]
  },
  {
   "cell_type": "code",
   "execution_count": 17,
   "metadata": {},
   "outputs": [
    {
     "data": {
      "text/plain": [
       "instant       0.000000\n",
       "season       -0.002571\n",
       "yr            0.000000\n",
       "mnth         -0.010478\n",
       "holiday       5.650014\n",
       "weekday       0.002745\n",
       "workingday   -0.790992\n",
       "weathersit    0.961855\n",
       "temp         -0.057187\n",
       "atemp        -0.133709\n",
       "hum          -0.067476\n",
       "windspeed     0.676314\n",
       "casual        1.266328\n",
       "registered    0.041211\n",
       "cnt          -0.049581\n",
       "dtype: float64"
      ]
     },
     "execution_count": 17,
     "metadata": {},
     "output_type": "execute_result"
    }
   ],
   "source": [
    "df.skew()"
   ]
  },
  {
   "cell_type": "markdown",
   "metadata": {},
   "source": [
    "Most of our data are still within an acceptable range of skewness, except for holiday, since its basically a binary categorical variable, we can ignore them as to there is no action item needed to be taken on the given column."
   ]
  },
  {
   "cell_type": "markdown",
   "metadata": {},
   "source": [
    "#### Data Kurtosis"
   ]
  },
  {
   "cell_type": "markdown",
   "metadata": {},
   "source": [
    "To have a quantifiable justification of our data, we also need to measure the kurtosis, its a measurment of the peak of the distribution, are they too narrow or too wide. A general guideline would be values of greater than +1 or lower than -1 would have a significant kurtosis and have substantially narrow range of data distribution."
   ]
  },
  {
   "cell_type": "code",
   "execution_count": 18,
   "metadata": {},
   "outputs": [
    {
     "data": {
      "text/plain": [
       "instant       -1.200000\n",
       "season        -1.341120\n",
       "yr            -2.005502\n",
       "mnth          -1.207096\n",
       "holiday       30.004851\n",
       "weekday       -1.256688\n",
       "workingday    -1.378114\n",
       "weathersit    -0.126895\n",
       "temp          -1.118305\n",
       "atemp         -0.984513\n",
       "hum           -0.059830\n",
       "windspeed      0.405909\n",
       "casual         1.321342\n",
       "registered    -0.710250\n",
       "cnt           -0.808080\n",
       "dtype: float64"
      ]
     },
     "execution_count": 18,
     "metadata": {},
     "output_type": "execute_result"
    }
   ],
   "source": [
    "df.kurt()"
   ]
  },
  {
   "cell_type": "markdown",
   "metadata": {},
   "source": [
    "Once again all of our data are in a good shape, except for holiday, as for categorical values it is considerably safe because each of the values in a categorical data is useful, and therefore no action item needed to be taken."
   ]
  },
  {
   "cell_type": "markdown",
   "metadata": {},
   "source": [
    "## 1.2. Categorical Variables"
   ]
  },
  {
   "cell_type": "markdown",
   "metadata": {},
   "source": [
    "### 1.2.1. Fix Season Data"
   ]
  },
  {
   "cell_type": "markdown",
   "metadata": {},
   "source": [
    "We have previously identified that despite it has numerical values, but there is no specific order or ranking of the data, from the data description we can see the data classification as follows:\n",
    "\n",
    "1. spring\n",
    "2. summer\n",
    "3. fall\n",
    "4. winter\n",
    "\n",
    "In stevens typology, this column is identified as nominal column, that is no mathematical calculation, nor range, nor ranks within the data, and therefore we should treat them as such. The easiest way to do that is by changing the data type to string, but we want to stretch further by undoing the categorization and simply put the season name, so that in the later section in the notebook, we can create dummy variables on top of them.\n",
    "\n",
    "Lets change the values accordingly with their appropriate name."
   ]
  },
  {
   "cell_type": "code",
   "execution_count": 19,
   "metadata": {},
   "outputs": [],
   "source": [
    "seasons = ['spring', 'summer', 'fall', 'winter']\n",
    "\n",
    "df.season = df.season.apply(lambda d: seasons[d - 1])"
   ]
  },
  {
   "cell_type": "markdown",
   "metadata": {},
   "source": [
    "### 1.2.2. Fix Weather Data"
   ]
  },
  {
   "cell_type": "markdown",
   "metadata": {},
   "source": [
    "We have also previously identified that this column values is in no particular order, following are the data description:\n",
    "\n",
    "1. Clear, Few clouds, Partly cloudy, Partly cloudy\n",
    "2. Mist + Cloudy, Mist + Broken clouds, Mist + Few clouds, Mist\n",
    "3. Light Snow, Light Rain + Thunderstorm + Scattered clouds, Light Rain + Scattered clouds\n",
    "4. Heavy Rain + Ice Pallets + Thunderstorm + Mist, Snow + Fog\n",
    "\n",
    "It is clear that by the definition in Stevens Typology, this column can be identified as nominal column, as they are unrankable. Just like what we did with season, we would like to undo the simplification, and apply the name of the weather, but rather a more simplified name instead of the more verbose form.\n",
    "\n",
    "Lets change their values with a simplified weather name."
   ]
  },
  {
   "cell_type": "code",
   "execution_count": 20,
   "metadata": {},
   "outputs": [],
   "source": [
    "weathers = ['clear', 'cloudy', 'rainy', 'snowy']\n",
    "\n",
    "df.weathersit = df.weathersit.apply(lambda d: weathers[d - 1])"
   ]
  },
  {
   "cell_type": "markdown",
   "metadata": {},
   "source": [
    "## 1.3. Dummy Variables"
   ]
  },
  {
   "cell_type": "markdown",
   "metadata": {},
   "source": [
    "We would need to transform our categorical columns, that is the nominal column we have fixed in the previous section, into one hot encoding, or we can say them as dummy variables. This transformation enables us to generate a model that takes into account our categorical columns, therefore we can have a more robust and good interpretability of our model.\n",
    "\n",
    "A general formula of total dummy variables is: `k-1`, therefore given our dataset, we would only need to create one minus total values of our categorical values, that means we would need to drop the first, or we can say the base value of our dummy variable. This is done in order to have a lesser multicollinearity, that is the high correlation between independent variables."
   ]
  },
  {
   "cell_type": "markdown",
   "metadata": {},
   "source": [
    "### 1.3.1. Season Dummy Variables"
   ]
  },
  {
   "cell_type": "markdown",
   "metadata": {},
   "source": [
    "Lets create dummy variables for season, and drop the first column."
   ]
  },
  {
   "cell_type": "code",
   "execution_count": 21,
   "metadata": {},
   "outputs": [
    {
     "data": {
      "text/html": [
       "<div>\n",
       "<style scoped>\n",
       "    .dataframe tbody tr th:only-of-type {\n",
       "        vertical-align: middle;\n",
       "    }\n",
       "\n",
       "    .dataframe tbody tr th {\n",
       "        vertical-align: top;\n",
       "    }\n",
       "\n",
       "    .dataframe thead th {\n",
       "        text-align: right;\n",
       "    }\n",
       "</style>\n",
       "<table border=\"1\" class=\"dataframe\">\n",
       "  <thead>\n",
       "    <tr style=\"text-align: right;\">\n",
       "      <th></th>\n",
       "      <th>spring</th>\n",
       "      <th>summer</th>\n",
       "      <th>winter</th>\n",
       "    </tr>\n",
       "  </thead>\n",
       "  <tbody>\n",
       "    <tr>\n",
       "      <th>0</th>\n",
       "      <td>1</td>\n",
       "      <td>0</td>\n",
       "      <td>0</td>\n",
       "    </tr>\n",
       "    <tr>\n",
       "      <th>1</th>\n",
       "      <td>1</td>\n",
       "      <td>0</td>\n",
       "      <td>0</td>\n",
       "    </tr>\n",
       "    <tr>\n",
       "      <th>2</th>\n",
       "      <td>1</td>\n",
       "      <td>0</td>\n",
       "      <td>0</td>\n",
       "    </tr>\n",
       "  </tbody>\n",
       "</table>\n",
       "</div>"
      ],
      "text/plain": [
       "   spring  summer  winter\n",
       "0       1       0       0\n",
       "1       1       0       0\n",
       "2       1       0       0"
      ]
     },
     "execution_count": 21,
     "metadata": {},
     "output_type": "execute_result"
    }
   ],
   "source": [
    "seasons = pd.get_dummies(df['season'], drop_first=True)\n",
    "seasons.head(3)"
   ]
  },
  {
   "cell_type": "markdown",
   "metadata": {},
   "source": [
    "Lets add them to our dataset."
   ]
  },
  {
   "cell_type": "code",
   "execution_count": 22,
   "metadata": {},
   "outputs": [
    {
     "data": {
      "text/html": [
       "<div>\n",
       "<style scoped>\n",
       "    .dataframe tbody tr th:only-of-type {\n",
       "        vertical-align: middle;\n",
       "    }\n",
       "\n",
       "    .dataframe tbody tr th {\n",
       "        vertical-align: top;\n",
       "    }\n",
       "\n",
       "    .dataframe thead th {\n",
       "        text-align: right;\n",
       "    }\n",
       "</style>\n",
       "<table border=\"1\" class=\"dataframe\">\n",
       "  <thead>\n",
       "    <tr style=\"text-align: right;\">\n",
       "      <th></th>\n",
       "      <th>instant</th>\n",
       "      <th>dteday</th>\n",
       "      <th>season</th>\n",
       "      <th>yr</th>\n",
       "      <th>mnth</th>\n",
       "      <th>holiday</th>\n",
       "      <th>weekday</th>\n",
       "      <th>workingday</th>\n",
       "      <th>weathersit</th>\n",
       "      <th>temp</th>\n",
       "      <th>atemp</th>\n",
       "      <th>hum</th>\n",
       "      <th>windspeed</th>\n",
       "      <th>casual</th>\n",
       "      <th>registered</th>\n",
       "      <th>cnt</th>\n",
       "      <th>spring</th>\n",
       "      <th>summer</th>\n",
       "      <th>winter</th>\n",
       "    </tr>\n",
       "  </thead>\n",
       "  <tbody>\n",
       "    <tr>\n",
       "      <th>0</th>\n",
       "      <td>1</td>\n",
       "      <td>01-01-2018</td>\n",
       "      <td>spring</td>\n",
       "      <td>0</td>\n",
       "      <td>1</td>\n",
       "      <td>0</td>\n",
       "      <td>6</td>\n",
       "      <td>0</td>\n",
       "      <td>cloudy</td>\n",
       "      <td>14.110847</td>\n",
       "      <td>18.18125</td>\n",
       "      <td>80.5833</td>\n",
       "      <td>10.749882</td>\n",
       "      <td>331</td>\n",
       "      <td>654</td>\n",
       "      <td>985</td>\n",
       "      <td>1</td>\n",
       "      <td>0</td>\n",
       "      <td>0</td>\n",
       "    </tr>\n",
       "    <tr>\n",
       "      <th>1</th>\n",
       "      <td>2</td>\n",
       "      <td>02-01-2018</td>\n",
       "      <td>spring</td>\n",
       "      <td>0</td>\n",
       "      <td>1</td>\n",
       "      <td>0</td>\n",
       "      <td>0</td>\n",
       "      <td>0</td>\n",
       "      <td>cloudy</td>\n",
       "      <td>14.902598</td>\n",
       "      <td>17.68695</td>\n",
       "      <td>69.6087</td>\n",
       "      <td>16.652113</td>\n",
       "      <td>131</td>\n",
       "      <td>670</td>\n",
       "      <td>801</td>\n",
       "      <td>1</td>\n",
       "      <td>0</td>\n",
       "      <td>0</td>\n",
       "    </tr>\n",
       "    <tr>\n",
       "      <th>2</th>\n",
       "      <td>3</td>\n",
       "      <td>03-01-2018</td>\n",
       "      <td>spring</td>\n",
       "      <td>0</td>\n",
       "      <td>1</td>\n",
       "      <td>0</td>\n",
       "      <td>1</td>\n",
       "      <td>1</td>\n",
       "      <td>clear</td>\n",
       "      <td>8.050924</td>\n",
       "      <td>9.47025</td>\n",
       "      <td>43.7273</td>\n",
       "      <td>16.636703</td>\n",
       "      <td>120</td>\n",
       "      <td>1229</td>\n",
       "      <td>1349</td>\n",
       "      <td>1</td>\n",
       "      <td>0</td>\n",
       "      <td>0</td>\n",
       "    </tr>\n",
       "    <tr>\n",
       "      <th>3</th>\n",
       "      <td>4</td>\n",
       "      <td>04-01-2018</td>\n",
       "      <td>spring</td>\n",
       "      <td>0</td>\n",
       "      <td>1</td>\n",
       "      <td>0</td>\n",
       "      <td>2</td>\n",
       "      <td>1</td>\n",
       "      <td>clear</td>\n",
       "      <td>8.200000</td>\n",
       "      <td>10.60610</td>\n",
       "      <td>59.0435</td>\n",
       "      <td>10.739832</td>\n",
       "      <td>108</td>\n",
       "      <td>1454</td>\n",
       "      <td>1562</td>\n",
       "      <td>1</td>\n",
       "      <td>0</td>\n",
       "      <td>0</td>\n",
       "    </tr>\n",
       "    <tr>\n",
       "      <th>4</th>\n",
       "      <td>5</td>\n",
       "      <td>05-01-2018</td>\n",
       "      <td>spring</td>\n",
       "      <td>0</td>\n",
       "      <td>1</td>\n",
       "      <td>0</td>\n",
       "      <td>3</td>\n",
       "      <td>1</td>\n",
       "      <td>clear</td>\n",
       "      <td>9.305237</td>\n",
       "      <td>11.46350</td>\n",
       "      <td>43.6957</td>\n",
       "      <td>12.522300</td>\n",
       "      <td>82</td>\n",
       "      <td>1518</td>\n",
       "      <td>1600</td>\n",
       "      <td>1</td>\n",
       "      <td>0</td>\n",
       "      <td>0</td>\n",
       "    </tr>\n",
       "  </tbody>\n",
       "</table>\n",
       "</div>"
      ],
      "text/plain": [
       "   instant      dteday  season  yr  mnth  holiday  weekday  workingday  \\\n",
       "0        1  01-01-2018  spring   0     1        0        6           0   \n",
       "1        2  02-01-2018  spring   0     1        0        0           0   \n",
       "2        3  03-01-2018  spring   0     1        0        1           1   \n",
       "3        4  04-01-2018  spring   0     1        0        2           1   \n",
       "4        5  05-01-2018  spring   0     1        0        3           1   \n",
       "\n",
       "  weathersit       temp     atemp      hum  windspeed  casual  registered  \\\n",
       "0     cloudy  14.110847  18.18125  80.5833  10.749882     331         654   \n",
       "1     cloudy  14.902598  17.68695  69.6087  16.652113     131         670   \n",
       "2      clear   8.050924   9.47025  43.7273  16.636703     120        1229   \n",
       "3      clear   8.200000  10.60610  59.0435  10.739832     108        1454   \n",
       "4      clear   9.305237  11.46350  43.6957  12.522300      82        1518   \n",
       "\n",
       "    cnt  spring  summer  winter  \n",
       "0   985       1       0       0  \n",
       "1   801       1       0       0  \n",
       "2  1349       1       0       0  \n",
       "3  1562       1       0       0  \n",
       "4  1600       1       0       0  "
      ]
     },
     "execution_count": 22,
     "metadata": {},
     "output_type": "execute_result"
    }
   ],
   "source": [
    "df = pd.concat([df, seasons], axis=1)\n",
    "df.head()"
   ]
  },
  {
   "cell_type": "markdown",
   "metadata": {},
   "source": [
    "### 1.3.2. Weather Dummy Variables"
   ]
  },
  {
   "cell_type": "markdown",
   "metadata": {},
   "source": [
    "Lets create dummy variables for season, and drop the first column."
   ]
  },
  {
   "cell_type": "code",
   "execution_count": 23,
   "metadata": {},
   "outputs": [
    {
     "data": {
      "text/html": [
       "<div>\n",
       "<style scoped>\n",
       "    .dataframe tbody tr th:only-of-type {\n",
       "        vertical-align: middle;\n",
       "    }\n",
       "\n",
       "    .dataframe tbody tr th {\n",
       "        vertical-align: top;\n",
       "    }\n",
       "\n",
       "    .dataframe thead th {\n",
       "        text-align: right;\n",
       "    }\n",
       "</style>\n",
       "<table border=\"1\" class=\"dataframe\">\n",
       "  <thead>\n",
       "    <tr style=\"text-align: right;\">\n",
       "      <th></th>\n",
       "      <th>cloudy</th>\n",
       "      <th>rainy</th>\n",
       "    </tr>\n",
       "  </thead>\n",
       "  <tbody>\n",
       "    <tr>\n",
       "      <th>0</th>\n",
       "      <td>1</td>\n",
       "      <td>0</td>\n",
       "    </tr>\n",
       "    <tr>\n",
       "      <th>1</th>\n",
       "      <td>1</td>\n",
       "      <td>0</td>\n",
       "    </tr>\n",
       "    <tr>\n",
       "      <th>2</th>\n",
       "      <td>0</td>\n",
       "      <td>0</td>\n",
       "    </tr>\n",
       "    <tr>\n",
       "      <th>3</th>\n",
       "      <td>0</td>\n",
       "      <td>0</td>\n",
       "    </tr>\n",
       "    <tr>\n",
       "      <th>4</th>\n",
       "      <td>0</td>\n",
       "      <td>0</td>\n",
       "    </tr>\n",
       "  </tbody>\n",
       "</table>\n",
       "</div>"
      ],
      "text/plain": [
       "   cloudy  rainy\n",
       "0       1      0\n",
       "1       1      0\n",
       "2       0      0\n",
       "3       0      0\n",
       "4       0      0"
      ]
     },
     "execution_count": 23,
     "metadata": {},
     "output_type": "execute_result"
    }
   ],
   "source": [
    "weathers = pd.get_dummies(df['weathersit'], drop_first=True)\n",
    "weathers.head()"
   ]
  },
  {
   "cell_type": "markdown",
   "metadata": {},
   "source": [
    "Lets add them to our dataset."
   ]
  },
  {
   "cell_type": "code",
   "execution_count": 24,
   "metadata": {},
   "outputs": [
    {
     "data": {
      "text/html": [
       "<div>\n",
       "<style scoped>\n",
       "    .dataframe tbody tr th:only-of-type {\n",
       "        vertical-align: middle;\n",
       "    }\n",
       "\n",
       "    .dataframe tbody tr th {\n",
       "        vertical-align: top;\n",
       "    }\n",
       "\n",
       "    .dataframe thead th {\n",
       "        text-align: right;\n",
       "    }\n",
       "</style>\n",
       "<table border=\"1\" class=\"dataframe\">\n",
       "  <thead>\n",
       "    <tr style=\"text-align: right;\">\n",
       "      <th></th>\n",
       "      <th>instant</th>\n",
       "      <th>dteday</th>\n",
       "      <th>season</th>\n",
       "      <th>yr</th>\n",
       "      <th>mnth</th>\n",
       "      <th>holiday</th>\n",
       "      <th>weekday</th>\n",
       "      <th>workingday</th>\n",
       "      <th>weathersit</th>\n",
       "      <th>temp</th>\n",
       "      <th>...</th>\n",
       "      <th>hum</th>\n",
       "      <th>windspeed</th>\n",
       "      <th>casual</th>\n",
       "      <th>registered</th>\n",
       "      <th>cnt</th>\n",
       "      <th>spring</th>\n",
       "      <th>summer</th>\n",
       "      <th>winter</th>\n",
       "      <th>cloudy</th>\n",
       "      <th>rainy</th>\n",
       "    </tr>\n",
       "  </thead>\n",
       "  <tbody>\n",
       "    <tr>\n",
       "      <th>0</th>\n",
       "      <td>1</td>\n",
       "      <td>01-01-2018</td>\n",
       "      <td>spring</td>\n",
       "      <td>0</td>\n",
       "      <td>1</td>\n",
       "      <td>0</td>\n",
       "      <td>6</td>\n",
       "      <td>0</td>\n",
       "      <td>cloudy</td>\n",
       "      <td>14.110847</td>\n",
       "      <td>...</td>\n",
       "      <td>80.5833</td>\n",
       "      <td>10.749882</td>\n",
       "      <td>331</td>\n",
       "      <td>654</td>\n",
       "      <td>985</td>\n",
       "      <td>1</td>\n",
       "      <td>0</td>\n",
       "      <td>0</td>\n",
       "      <td>1</td>\n",
       "      <td>0</td>\n",
       "    </tr>\n",
       "    <tr>\n",
       "      <th>1</th>\n",
       "      <td>2</td>\n",
       "      <td>02-01-2018</td>\n",
       "      <td>spring</td>\n",
       "      <td>0</td>\n",
       "      <td>1</td>\n",
       "      <td>0</td>\n",
       "      <td>0</td>\n",
       "      <td>0</td>\n",
       "      <td>cloudy</td>\n",
       "      <td>14.902598</td>\n",
       "      <td>...</td>\n",
       "      <td>69.6087</td>\n",
       "      <td>16.652113</td>\n",
       "      <td>131</td>\n",
       "      <td>670</td>\n",
       "      <td>801</td>\n",
       "      <td>1</td>\n",
       "      <td>0</td>\n",
       "      <td>0</td>\n",
       "      <td>1</td>\n",
       "      <td>0</td>\n",
       "    </tr>\n",
       "    <tr>\n",
       "      <th>2</th>\n",
       "      <td>3</td>\n",
       "      <td>03-01-2018</td>\n",
       "      <td>spring</td>\n",
       "      <td>0</td>\n",
       "      <td>1</td>\n",
       "      <td>0</td>\n",
       "      <td>1</td>\n",
       "      <td>1</td>\n",
       "      <td>clear</td>\n",
       "      <td>8.050924</td>\n",
       "      <td>...</td>\n",
       "      <td>43.7273</td>\n",
       "      <td>16.636703</td>\n",
       "      <td>120</td>\n",
       "      <td>1229</td>\n",
       "      <td>1349</td>\n",
       "      <td>1</td>\n",
       "      <td>0</td>\n",
       "      <td>0</td>\n",
       "      <td>0</td>\n",
       "      <td>0</td>\n",
       "    </tr>\n",
       "    <tr>\n",
       "      <th>3</th>\n",
       "      <td>4</td>\n",
       "      <td>04-01-2018</td>\n",
       "      <td>spring</td>\n",
       "      <td>0</td>\n",
       "      <td>1</td>\n",
       "      <td>0</td>\n",
       "      <td>2</td>\n",
       "      <td>1</td>\n",
       "      <td>clear</td>\n",
       "      <td>8.200000</td>\n",
       "      <td>...</td>\n",
       "      <td>59.0435</td>\n",
       "      <td>10.739832</td>\n",
       "      <td>108</td>\n",
       "      <td>1454</td>\n",
       "      <td>1562</td>\n",
       "      <td>1</td>\n",
       "      <td>0</td>\n",
       "      <td>0</td>\n",
       "      <td>0</td>\n",
       "      <td>0</td>\n",
       "    </tr>\n",
       "    <tr>\n",
       "      <th>4</th>\n",
       "      <td>5</td>\n",
       "      <td>05-01-2018</td>\n",
       "      <td>spring</td>\n",
       "      <td>0</td>\n",
       "      <td>1</td>\n",
       "      <td>0</td>\n",
       "      <td>3</td>\n",
       "      <td>1</td>\n",
       "      <td>clear</td>\n",
       "      <td>9.305237</td>\n",
       "      <td>...</td>\n",
       "      <td>43.6957</td>\n",
       "      <td>12.522300</td>\n",
       "      <td>82</td>\n",
       "      <td>1518</td>\n",
       "      <td>1600</td>\n",
       "      <td>1</td>\n",
       "      <td>0</td>\n",
       "      <td>0</td>\n",
       "      <td>0</td>\n",
       "      <td>0</td>\n",
       "    </tr>\n",
       "  </tbody>\n",
       "</table>\n",
       "<p>5 rows × 21 columns</p>\n",
       "</div>"
      ],
      "text/plain": [
       "   instant      dteday  season  yr  mnth  holiday  weekday  workingday  \\\n",
       "0        1  01-01-2018  spring   0     1        0        6           0   \n",
       "1        2  02-01-2018  spring   0     1        0        0           0   \n",
       "2        3  03-01-2018  spring   0     1        0        1           1   \n",
       "3        4  04-01-2018  spring   0     1        0        2           1   \n",
       "4        5  05-01-2018  spring   0     1        0        3           1   \n",
       "\n",
       "  weathersit       temp  ...      hum  windspeed  casual  registered   cnt  \\\n",
       "0     cloudy  14.110847  ...  80.5833  10.749882     331         654   985   \n",
       "1     cloudy  14.902598  ...  69.6087  16.652113     131         670   801   \n",
       "2      clear   8.050924  ...  43.7273  16.636703     120        1229  1349   \n",
       "3      clear   8.200000  ...  59.0435  10.739832     108        1454  1562   \n",
       "4      clear   9.305237  ...  43.6957  12.522300      82        1518  1600   \n",
       "\n",
       "   spring  summer  winter  cloudy  rainy  \n",
       "0       1       0       0       1      0  \n",
       "1       1       0       0       1      0  \n",
       "2       1       0       0       0      0  \n",
       "3       1       0       0       0      0  \n",
       "4       1       0       0       0      0  \n",
       "\n",
       "[5 rows x 21 columns]"
      ]
     },
     "execution_count": 24,
     "metadata": {},
     "output_type": "execute_result"
    }
   ],
   "source": [
    "df = pd.concat([df, weathers], axis=1)\n",
    "df.head()"
   ]
  },
  {
   "cell_type": "markdown",
   "metadata": {},
   "source": [
    "## 1.4. Derived Metrics"
   ]
  },
  {
   "cell_type": "markdown",
   "metadata": {},
   "source": [
    "### 1.4.1. Ratios"
   ]
  },
  {
   "cell_type": "markdown",
   "metadata": {},
   "source": [
    "There are informations that we can derive and may enrich our model, we have two information that is part of the target variable and is of no use on its own within our model, which are: casual and registered, because the total of both variables are the target variable.\n",
    "\n",
    "But these may add value to identify if user are more to a casual or registered kind of customer and if they are part of the contributing variables. Therefore we need to transform these variables into another form, that is ratios. With this, it can add value to our model."
   ]
  },
  {
   "cell_type": "markdown",
   "metadata": {},
   "source": [
    "#### Casual Rate"
   ]
  },
  {
   "cell_type": "code",
   "execution_count": 25,
   "metadata": {},
   "outputs": [
    {
     "data": {
      "image/png": "[encoded data removed]",
      "text/plain": [
       "<Figure size 432x288 with 1 Axes>"
      ]
     },
     "metadata": {
      "needs_background": "light"
     },
     "output_type": "display_data"
    }
   ],
   "source": [
    "df['casual_rate'] = df.casual / df.cnt\n",
    "df.plot.scatter(x='casual_rate', y='cnt'); plt.show()"
   ]
  },
  {
   "cell_type": "markdown",
   "metadata": {},
   "source": [
    "#### Registered Rate"
   ]
  },
  {
   "cell_type": "code",
   "execution_count": 26,
   "metadata": {},
   "outputs": [
    {
     "data": {
      "image/png": "[encoded data removed]",
      "text/plain": [
       "<Figure size 432x288 with 1 Axes>"
      ]
     },
     "metadata": {
      "needs_background": "light"
     },
     "output_type": "display_data"
    }
   ],
   "source": [
    "df['registered_rate'] = df.registered / df.cnt\n",
    "df.plot.scatter(x='registered_rate', y='cnt'); plt.show()"
   ]
  },
  {
   "cell_type": "markdown",
   "metadata": {},
   "source": [
    "### 1.4.2. Weathers"
   ]
  },
  {
   "cell_type": "markdown",
   "metadata": {},
   "source": [
    "There are informations we can derive from our dataset that is related to weather, here we'll use the library `metpy` that is specifically designed to calculate weather data. We will calculate some of the information related  weather data to our dataset by using the columns `temp`, `hum` and `windspeed`, and the derived metrics that we will calculate are `apparent_temperature`, `heat_index` and `windchill`."
   ]
  },
  {
   "cell_type": "markdown",
   "metadata": {},
   "source": [
    "#### Apparent Temperature"
   ]
  },
  {
   "cell_type": "code",
   "execution_count": 27,
   "metadata": {},
   "outputs": [
    {
     "data": {
      "image/png": "[encoded data removed]",
      "text/plain": [
       "<Figure size 432x288 with 1 Axes>"
      ]
     },
     "metadata": {
      "needs_background": "light"
     },
     "output_type": "display_data"
    }
   ],
   "source": [
    "df['apparent_temperature'] = df.apply(lambda row: mpcalc.apparent_temperature(row.temp * units.degC, row.hum * units.percent, row.windspeed * units('m/s')), axis=1)\n",
    "df['apparent_temperature'] = df.apparent_temperature.apply(lambda x: x[0].to('degC').magnitude)\n",
    "\n",
    "df.plot.scatter(x='apparent_temperature', y='cnt'); plt.show()"
   ]
  },
  {
   "cell_type": "markdown",
   "metadata": {},
   "source": [
    "#### Heat Index"
   ]
  },
  {
   "cell_type": "code",
   "execution_count": 28,
   "metadata": {},
   "outputs": [
    {
     "data": {
      "image/png": "[encoded data removed]",
      "text/plain": [
       "<Figure size 432x288 with 1 Axes>"
      ]
     },
     "metadata": {
      "needs_background": "light"
     },
     "output_type": "display_data"
    }
   ],
   "source": [
    "df['heat_index'] = df.apply(lambda row: mpcalc.heat_index(row.temp * units.degC, row.hum * units.percent), axis=1)\n",
    "df['heat_index'] = df.heat_index.apply(lambda x: x[0].to('degC').magnitude)\n",
    "\n",
    "df.plot.scatter(x='heat_index', y='cnt'); plt.show()"
   ]
  },
  {
   "cell_type": "markdown",
   "metadata": {},
   "source": [
    "#### Windchill"
   ]
  },
  {
   "cell_type": "code",
   "execution_count": 29,
   "metadata": {},
   "outputs": [
    {
     "data": {
      "image/png": "[encoded data removed]",
      "text/plain": [
       "<Figure size 432x288 with 1 Axes>"
      ]
     },
     "metadata": {
      "needs_background": "light"
     },
     "output_type": "display_data"
    }
   ],
   "source": [
    "df['windchill'] = df.apply(lambda row: mpcalc.windchill(row.temp * units.degC, row.windspeed * units('m/s')), axis=1)\n",
    "df['windchill'] = df.windchill.apply(lambda row: row.to('degC').magnitude)\n",
    "\n",
    "df.plot.scatter(x='windchill', y='cnt'); plt.show()"
   ]
  },
  {
   "cell_type": "markdown",
   "metadata": {},
   "source": [
    "### 1.4.3. Dates"
   ]
  },
  {
   "cell_type": "markdown",
   "metadata": {},
   "source": [
    "Some of the date related information have been derived and available to us, such as: `yr`, `mnth`, `holiday`, `weekday`, and `workingday`. But we still have one missing information to be derived, that is the day of the month, so that we can have a more holistic derived data."
   ]
  },
  {
   "cell_type": "markdown",
   "metadata": {},
   "source": [
    "#### Fix Date Type"
   ]
  },
  {
   "cell_type": "markdown",
   "metadata": {},
   "source": [
    "Previously we have discovered that the column `dteday` values are dates, but was not properly inferred by pandas as date type, lets see if we can transform them into the proper data type of date with the correct date time format."
   ]
  },
  {
   "cell_type": "code",
   "execution_count": 30,
   "metadata": {},
   "outputs": [
    {
     "data": {
      "text/plain": [
       "0   2018-01-01\n",
       "1   2018-01-02\n",
       "2   2018-01-03\n",
       "3   2018-01-04\n",
       "4   2018-01-05\n",
       "Name: dteday, dtype: datetime64[ns]"
      ]
     },
     "execution_count": 30,
     "metadata": {},
     "output_type": "execute_result"
    }
   ],
   "source": [
    "df.dteday.apply(lambda d: pd.to_datetime(d, format='%d-%m-%Y')).head()"
   ]
  },
  {
   "cell_type": "markdown",
   "metadata": {},
   "source": [
    "It looks like everything works just fine, pandas just couldn't figure out the format of the date data type, therefore we can apply the data type transformation back into our dataframe so that it can be utilized properly."
   ]
  },
  {
   "cell_type": "code",
   "execution_count": 31,
   "metadata": {},
   "outputs": [],
   "source": [
    "df.dteday = df.dteday.apply(lambda d: pd.to_datetime(d, format='%d-%m-%Y'))"
   ]
  },
  {
   "cell_type": "markdown",
   "metadata": {},
   "source": [
    "#### Day of the Month"
   ]
  },
  {
   "cell_type": "markdown",
   "metadata": {},
   "source": [
    "Now lets extract the day of the month from our date time column, and lets plot them visually."
   ]
  },
  {
   "cell_type": "code",
   "execution_count": 32,
   "metadata": {},
   "outputs": [
    {
     "data": {
      "image/png": "[encoded data removed]",
      "text/plain": [
       "<Figure size 432x288 with 1 Axes>"
      ]
     },
     "metadata": {
      "needs_background": "light"
     },
     "output_type": "display_data"
    }
   ],
   "source": [
    "df['monthday'] = df.dteday.dt.strftime('%d').astype('int')\n",
    "df.plot.scatter(x='monthday', y='cnt'); plt.show()"
   ]
  },
  {
   "cell_type": "markdown",
   "metadata": {},
   "source": [
    "## 1.5. Data Cleaning"
   ]
  },
  {
   "cell_type": "markdown",
   "metadata": {},
   "source": [
    "### 1.5.1. Remove Columns"
   ]
  },
  {
   "cell_type": "markdown",
   "metadata": {},
   "source": [
    "#### Remove Identifier Column"
   ]
  },
  {
   "cell_type": "markdown",
   "metadata": {},
   "source": [
    "We have previously identified that identifier column is part of columns that are irrelevant, this is because this column are infact identifier column of each data, and it is of no use as part of a model, therefore we can remove this column to have a more meaningful model."
   ]
  },
  {
   "cell_type": "code",
   "execution_count": 33,
   "metadata": {},
   "outputs": [],
   "source": [
    "df.drop(columns=['instant'], inplace=True)"
   ]
  },
  {
   "cell_type": "markdown",
   "metadata": {},
   "source": [
    "#### Remove Date Column"
   ]
  },
  {
   "cell_type": "markdown",
   "metadata": {},
   "source": [
    "We have previously identified that the `dteday` column have distinct values and appears to be identical with the identifier column. It contains useful information, and we already have their derived values, therefore this column is of no longer use to use."
   ]
  },
  {
   "cell_type": "code",
   "execution_count": 34,
   "metadata": {},
   "outputs": [],
   "source": [
    "df.drop(columns=['dteday'], inplace=True)"
   ]
  },
  {
   "cell_type": "markdown",
   "metadata": {},
   "source": [
    "#### Remove Subsets of Target Column"
   ]
  },
  {
   "cell_type": "markdown",
   "metadata": {},
   "source": [
    "Now lets remove columns that are the subset of our target column, which are casual and registered, this is because the total of both these columns make up our target column, we already have their derived column therefore removing this column is safe."
   ]
  },
  {
   "cell_type": "code",
   "execution_count": 35,
   "metadata": {},
   "outputs": [],
   "source": [
    "df.drop(columns=['casual', 'registered'], inplace=True)"
   ]
  },
  {
   "cell_type": "markdown",
   "metadata": {},
   "source": [
    "#### Remove Categorical Column"
   ]
  },
  {
   "cell_type": "markdown",
   "metadata": {},
   "source": [
    "Our categorical columns have previously been transformed into dummy variables, therefore we no longer need the origincal categorical column, lets remove the column `weathersit` and `season` to exclude them from our model."
   ]
  },
  {
   "cell_type": "code",
   "execution_count": 36,
   "metadata": {},
   "outputs": [],
   "source": [
    "df.drop(columns=['season', 'weathersit'], inplace=True)"
   ]
  },
  {
   "cell_type": "markdown",
   "metadata": {},
   "source": [
    "# 2. Model Building and Evaluation"
   ]
  },
  {
   "cell_type": "markdown",
   "metadata": {},
   "source": [
    "\n",
    "## 2.1. Parameter Tuning"
   ]
  },
  {
   "cell_type": "markdown",
   "metadata": {},
   "source": [
    "Lets split our data into train and test data, we may need to set the train test ratio to 70:30 because the amount of our dataset is fairly small, and set the random state to 0 so that the result is the same everytime we run the following statement."
   ]
  },
  {
   "cell_type": "code",
   "execution_count": 37,
   "metadata": {},
   "outputs": [],
   "source": [
    "df_train, df_test = train_test_split(df, train_size=0.7, test_size=0.3, random_state=0)\n",
    "\n",
    "y_train = df_train[['cnt']]\n",
    "X_train = df_train.drop(columns=['cnt'])\n",
    "\n",
    "y_test = df_test[['cnt']]\n",
    "X_test = df_test.drop(columns=['cnt'])"
   ]
  },
  {
   "cell_type": "markdown",
   "metadata": {},
   "source": [
    "### 2.1.1. Simple Linear Regression"
   ]
  },
  {
   "cell_type": "markdown",
   "metadata": {},
   "source": [
    "#### Most Correlated Column"
   ]
  },
  {
   "cell_type": "markdown",
   "metadata": {},
   "source": [
    "In its simplest term, linear regression is an ordinary least squares, and we can try to build a linear model from one column with the highest correlation, lets see which column has the highest correlation with our target variable."
   ]
  },
  {
   "cell_type": "code",
   "execution_count": 38,
   "metadata": {},
   "outputs": [
    {
     "data": {
      "text/html": [
       "<div>\n",
       "<style scoped>\n",
       "    .dataframe tbody tr th:only-of-type {\n",
       "        vertical-align: middle;\n",
       "    }\n",
       "\n",
       "    .dataframe tbody tr th {\n",
       "        vertical-align: top;\n",
       "    }\n",
       "\n",
       "    .dataframe thead th {\n",
       "        text-align: right;\n",
       "    }\n",
       "</style>\n",
       "<table border=\"1\" class=\"dataframe\">\n",
       "  <thead>\n",
       "    <tr style=\"text-align: right;\">\n",
       "      <th></th>\n",
       "      <th>cnt</th>\n",
       "    </tr>\n",
       "  </thead>\n",
       "  <tbody>\n",
       "    <tr>\n",
       "      <th>cnt</th>\n",
       "      <td>1.000000</td>\n",
       "    </tr>\n",
       "    <tr>\n",
       "      <th>atemp</th>\n",
       "      <td>0.642696</td>\n",
       "    </tr>\n",
       "    <tr>\n",
       "      <th>windchill</th>\n",
       "      <td>0.640715</td>\n",
       "    </tr>\n",
       "  </tbody>\n",
       "</table>\n",
       "</div>"
      ],
      "text/plain": [
       "                cnt\n",
       "cnt        1.000000\n",
       "atemp      0.642696\n",
       "windchill  0.640715"
      ]
     },
     "execution_count": 38,
     "metadata": {},
     "output_type": "execute_result"
    }
   ],
   "source": [
    "df_train.corr()[['cnt']].sort_values(by='cnt', ascending=False).head(3)"
   ]
  },
  {
   "cell_type": "markdown",
   "metadata": {},
   "source": [
    "As we see, the most correlated column is `atemp`, therefore we will build a simple linear model from this column. "
   ]
  },
  {
   "cell_type": "markdown",
   "metadata": {},
   "source": [
    "#### Simple Linear Model"
   ]
  },
  {
   "cell_type": "markdown",
   "metadata": {},
   "source": [
    "Now lets build a simple linear model from the column `atemp`, and lets calculate its R-square both on the train and test data."
   ]
  },
  {
   "cell_type": "code",
   "execution_count": 39,
   "metadata": {},
   "outputs": [
    {
     "name": "stdout",
     "output_type": "stream",
     "text": [
      "R-square of train data:  0.4130577910107205\n",
      "R-square of tests data:  0.37049558939521443\n"
     ]
    }
   ],
   "source": [
    "y_train_simple = df_train[['cnt']]\n",
    "X_train_simple = df_train[['atemp']]\n",
    "\n",
    "model_simple = LinearRegression()\n",
    "model_simple.fit(X_train_simple, y_train_simple)\n",
    "\n",
    "y_test_simple = df_test[['cnt']]\n",
    "X_test_simple = df_test[['atemp']]\n",
    "\n",
    "print('R-square of train data: ', model_simple.score(X_train_simple, y_train_simple))\n",
    "print('R-square of tests data: ', model_simple.score(X_test_simple, y_test_simple))"
   ]
  },
  {
   "cell_type": "markdown",
   "metadata": {},
   "source": [
    "#### Conclusion"
   ]
  },
  {
   "cell_type": "markdown",
   "metadata": {},
   "source": [
    "This model is **underfit**, with R-square of 0.41 on the train dataset, it clearly has lots of room to improve, therefore we will not use this model and build another model with multiple variables using multiple linear regression."
   ]
  },
  {
   "cell_type": "markdown",
   "metadata": {},
   "source": [
    "### 2.1.2. Multiple Linear Regression"
   ]
  },
  {
   "cell_type": "markdown",
   "metadata": {},
   "source": [
    "Now lets build multiple linear regression model using all columns, but we will evaluate linear model with and without scaling, and validate if it is true there won't be any difference on the R-square score."
   ]
  },
  {
   "cell_type": "markdown",
   "metadata": {},
   "source": [
    "#### Without Scaling"
   ]
  },
  {
   "cell_type": "markdown",
   "metadata": {},
   "source": [
    "The difference between this and previous model is the column being used, while previously we're using only one column, now we're using all columns, lets build the model and calculate the R-square on the train and test data."
   ]
  },
  {
   "cell_type": "code",
   "execution_count": 40,
   "metadata": {},
   "outputs": [
    {
     "name": "stdout",
     "output_type": "stream",
     "text": [
      "R-square of train data:  0.8494681686160885\n",
      "R-square of tests data:  0.8663132451858079\n"
     ]
    }
   ],
   "source": [
    "y_train_multiple = df_train[['cnt']]\n",
    "X_train_multiple = df_train.drop(columns=['cnt'])\n",
    "\n",
    "model_multiple = LinearRegression()\n",
    "model_multiple.fit(X_train_multiple, y_train_multiple)\n",
    "\n",
    "y_test_multiple = df_test[['cnt']]\n",
    "X_test_multiple = df_test.drop(columns=['cnt'])\n",
    "\n",
    "print('R-square of train data: ', model_multiple.score(X_train_multiple, y_train_multiple))\n",
    "print('R-square of tests data: ', model_multiple.score(X_test_multiple, y_test_multiple))"
   ]
  },
  {
   "cell_type": "markdown",
   "metadata": {},
   "source": [
    "#### With Scaling"
   ]
  },
  {
   "cell_type": "markdown",
   "metadata": {},
   "source": [
    "Now lets build the model again, but with the columns scaled to just between 0 and 1, this is to allow interpretability on the variables, and lets verify if both model with and without scaling have the same R-square, lets create a helper function so that we can use it later on."
   ]
  },
  {
   "cell_type": "code",
   "execution_count": 41,
   "metadata": {},
   "outputs": [
    {
     "name": "stdout",
     "output_type": "stream",
     "text": [
      "R-square of train data:  0.8494681686160885\n",
      "R-square of tests data:  0.866313245185808\n"
     ]
    }
   ],
   "source": [
    "def build_model_with_scaling():\n",
    "    scaler = MinMaxScaler()\n",
    "\n",
    "    y_train = df_train[['cnt']]\n",
    "    X_train = df_train.drop(columns=['cnt'])\n",
    "    X_train[X_train.columns] = scaler.fit_transform(X_train[X_train.columns])\n",
    "\n",
    "    model = LinearRegression()\n",
    "    model.fit(X_train, y_train)\n",
    "\n",
    "    y_test = df_test[['cnt']]\n",
    "    X_test = df_test.drop(columns=['cnt'])\n",
    "    X_test[X_test.columns] = scaler.transform(X_test[X_test.columns])\n",
    "\n",
    "    print('R-square of train data: ', model.score(X_train, y_train))\n",
    "    print('R-square of tests data: ', model.score(X_test, y_test))\n",
    "\n",
    "build_model_with_scaling()"
   ]
  },
  {
   "cell_type": "markdown",
   "metadata": {},
   "source": [
    "#### Conclusion"
   ]
  },
  {
   "cell_type": "markdown",
   "metadata": {},
   "source": [
    "Both model show the same R-square result, this validates that scaling the model doesn't affect the model, and with the scaling, we get interpretability, and with the above result, it is slightly underfit because we're seeing the R-square of test data is a little bit above the R-square of train data, at the very least, it provides a benchmark for the next models."
   ]
  },
  {
   "cell_type": "markdown",
   "metadata": {},
   "source": [
    "## 2.2. Variable Selection"
   ]
  },
  {
   "cell_type": "markdown",
   "metadata": {},
   "source": [
    "### 2.2.1. Multiple Linear Regression with VIF"
   ]
  },
  {
   "cell_type": "markdown",
   "metadata": {},
   "source": [
    "#### VIF Measurement"
   ]
  },
  {
   "cell_type": "markdown",
   "metadata": {},
   "source": [
    "With previous model as a baseline, lets do feature selection by calculating the variance inflation factor, we will eliminate the columns one by one with vif more than 5 until all columns' vif is less than 5, lets create a helper function to calculate the VIF."
   ]
  },
  {
   "cell_type": "code",
   "execution_count": 42,
   "metadata": {},
   "outputs": [],
   "source": [
    "def vif(df):\n",
    "    df_vif = pd.DataFrame()\n",
    "    df_vif['Features'] = df.columns\n",
    "    df_vif['VIF'] = [variance_inflation_factor(df.values, i) for i in range(df.shape[1])]\n",
    "    df_vif['VIF'] = round(df_vif['VIF'], 2)\n",
    "    df_vif = df_vif.sort_values(by = \"VIF\", ascending = False)\n",
    "    \n",
    "    return df_vif"
   ]
  },
  {
   "cell_type": "markdown",
   "metadata": {},
   "source": [
    "#### Model Builder"
   ]
  },
  {
   "cell_type": "markdown",
   "metadata": {},
   "source": [
    "And lets create a helper function to create a model with feature selection by dropping columns with VIF more than 5, inside the function we will print the R-square of both train and test data, and we will also print the columns with highest VIF."
   ]
  },
  {
   "cell_type": "code",
   "execution_count": 43,
   "metadata": {},
   "outputs": [],
   "source": [
    "def build_model_with_vif(drop=[]):\n",
    "    scaler = MinMaxScaler()\n",
    "\n",
    "    y_train = df_train[['cnt']]\n",
    "    X_train = df_train.drop(columns=['cnt'] + drop)\n",
    "    X_train[X_train.columns] = scaler.fit_transform(X_train[X_train.columns])\n",
    "\n",
    "    model = LinearRegression()\n",
    "    model.fit(X_train, y_train)\n",
    "\n",
    "    y_test = df_test[['cnt']]\n",
    "    X_test = df_test.drop(columns=['cnt'] + drop)\n",
    "    X_test[X_test.columns] = scaler.transform(X_test[X_test.columns])\n",
    "\n",
    "    print('R-square of train data: ', model.score(X_train, y_train))\n",
    "    print('R-square of tests data: ', model.score(X_test, y_test))    \n",
    "    \n",
    "    print()\n",
    "    print(vif(X_train).head(3))"
   ]
  },
  {
   "cell_type": "markdown",
   "metadata": {},
   "source": [
    "#### Parameter Tuning"
   ]
  },
  {
   "cell_type": "markdown",
   "metadata": {},
   "source": [
    "Now lets evaluate the model with its VIF, then lets remove column with highest VIF one by one, and re-evaluate them."
   ]
  },
  {
   "cell_type": "code",
   "execution_count": 44,
   "metadata": {},
   "outputs": [
    {
     "name": "stdout",
     "output_type": "stream",
     "text": [
      "R-square of train data:  0.8494681686160885\n",
      "R-square of tests data:  0.866313245185808\n",
      "\n",
      "     Features      VIF\n",
      "18  windchill  1349.17\n",
      "5        temp  1060.09\n",
      "6       atemp   265.19\n"
     ]
    }
   ],
   "source": [
    "build_model_with_vif()"
   ]
  },
  {
   "cell_type": "markdown",
   "metadata": {},
   "source": [
    "The R-square is the same as the previous model, and we can see `windchill` has the highest VIF, lets drop it, rebuild the model and recalculate its VIF."
   ]
  },
  {
   "cell_type": "code",
   "execution_count": 45,
   "metadata": {},
   "outputs": [
    {
     "name": "stdout",
     "output_type": "stream",
     "text": [
      "R-square of train data:  0.8492001212257738\n",
      "R-square of tests data:  0.8664220530834517\n",
      "\n",
      "                Features     VIF\n",
      "17            heat_index  244.79\n",
      "16  apparent_temperature  230.36\n",
      "5                   temp  221.86\n"
     ]
    }
   ],
   "source": [
    "build_model_with_vif(drop=['windchill'])"
   ]
  },
  {
   "cell_type": "markdown",
   "metadata": {},
   "source": [
    "The R-square is relatively the same, now lets drop the `heat_index` and re-evaluate the model."
   ]
  },
  {
   "cell_type": "code",
   "execution_count": 46,
   "metadata": {},
   "outputs": [
    {
     "name": "stdout",
     "output_type": "stream",
     "text": [
      "R-square of train data:  0.8491788877651032\n",
      "R-square of tests data:  0.8660355563537286\n",
      "\n",
      "           Features     VIF\n",
      "5              temp  215.79\n",
      "6             atemp  205.77\n",
      "15  registered_rate   50.45\n"
     ]
    }
   ],
   "source": [
    "build_model_with_vif(drop=['windchill', 'heat_index'])"
   ]
  },
  {
   "cell_type": "markdown",
   "metadata": {},
   "source": [
    "The R-square is still relatively the same, now lets drop the `temp` and re-evaluate the model."
   ]
  },
  {
   "cell_type": "code",
   "execution_count": 47,
   "metadata": {},
   "outputs": [
    {
     "name": "stdout",
     "output_type": "stream",
     "text": [
      "R-square of train data:  0.8464171952355763\n",
      "R-square of tests data:  0.8544770540942004\n",
      "\n",
      "           Features    VIF\n",
      "14  registered_rate  49.95\n",
      "13      casual_rate  15.26\n",
      "8            spring   5.82\n"
     ]
    }
   ],
   "source": [
    "build_model_with_vif(drop=['windchill', 'heat_index', 'temp'])"
   ]
  },
  {
   "cell_type": "markdown",
   "metadata": {},
   "source": [
    "The R-square is getting closer between train and test data, but is still not close enough, this indicates a better model than before, lets drop again the next column with the highest VIF, that is `registered_rate`, and re-evaluate the model."
   ]
  },
  {
   "cell_type": "code",
   "execution_count": 48,
   "metadata": {},
   "outputs": [
    {
     "name": "stdout",
     "output_type": "stream",
     "text": [
      "R-square of train data:  0.8464171952355763\n",
      "R-square of tests data:  0.8544770540942002\n",
      "\n",
      "  Features    VIF\n",
      "5    atemp  29.49\n",
      "6      hum  14.90\n",
      "1     mnth  12.33\n"
     ]
    }
   ],
   "source": [
    "build_model_with_vif(drop=['windchill', 'heat_index', 'temp', 'registered_rate'])"
   ]
  },
  {
   "cell_type": "markdown",
   "metadata": {},
   "source": [
    "The R-square is still relatively the same as previous model, lets drop the `atemp` and re-evaluate the model."
   ]
  },
  {
   "cell_type": "code",
   "execution_count": 49,
   "metadata": {},
   "outputs": [
    {
     "name": "stdout",
     "output_type": "stream",
     "text": [
      "R-square of train data:  0.7766430495226242\n",
      "R-square of tests data:  0.8376352005248093\n",
      "\n",
      "       Features    VIF\n",
      "5           hum  13.02\n",
      "1          mnth  12.22\n",
      "12  casual_rate   7.13\n"
     ]
    }
   ],
   "source": [
    "build_model_with_vif(drop=['windchill', 'heat_index', 'temp', 'registered_rate', 'atemp'])"
   ]
  },
  {
   "cell_type": "markdown",
   "metadata": {},
   "source": [
    "The R-square is getting worse, with the train data its underfit, this indicates we should stop removing the columns, because it won't make the model any better from here, lets continue to validate that removing the columns won't improve the model any further, lets drop the `hum` and re-evaluate the model."
   ]
  },
  {
   "cell_type": "code",
   "execution_count": 50,
   "metadata": {},
   "outputs": [
    {
     "name": "stdout",
     "output_type": "stream",
     "text": [
      "R-square of train data:  0.7766341950692188\n",
      "R-square of tests data:  0.8376796645613606\n",
      "\n",
      "       Features    VIF\n",
      "1          mnth  11.47\n",
      "11  casual_rate   6.37\n",
      "4    workingday   5.90\n"
     ]
    }
   ],
   "source": [
    "build_model_with_vif(drop=['windchill', 'heat_index', 'temp', 'registered_rate', 'atemp', 'hum'])"
   ]
  },
  {
   "cell_type": "markdown",
   "metadata": {},
   "source": [
    "The R-square is relatively the same and is still underfit, lets remove again the column `mnth` and re-evaluate the model."
   ]
  },
  {
   "cell_type": "code",
   "execution_count": 51,
   "metadata": {},
   "outputs": [
    {
     "name": "stdout",
     "output_type": "stream",
     "text": [
      "R-square of train data:  0.7765992868267904\n",
      "R-square of tests data:  0.8366788412495021\n",
      "\n",
      "       Features   VIF\n",
      "10  casual_rate  4.95\n",
      "3    workingday  4.83\n",
      "4     windspeed  4.51\n"
     ]
    }
   ],
   "source": [
    "build_model_with_vif(drop=['windchill', 'heat_index', 'temp', 'registered_rate', 'atemp', 'hum', 'mnth'])"
   ]
  },
  {
   "cell_type": "markdown",
   "metadata": {},
   "source": [
    "The R-square is relatively the same, is still underfit, and no more columns with VIF more than 5."
   ]
  },
  {
   "cell_type": "markdown",
   "metadata": {},
   "source": [
    "#### Conclusion"
   ]
  },
  {
   "cell_type": "markdown",
   "metadata": {},
   "source": [
    "The best model with columns removed using VIF is as follows."
   ]
  },
  {
   "cell_type": "code",
   "execution_count": 52,
   "metadata": {},
   "outputs": [
    {
     "name": "stdout",
     "output_type": "stream",
     "text": [
      "R-square of train data:  0.8464171952355763\n",
      "R-square of tests data:  0.8544770540942002\n",
      "\n",
      "  Features    VIF\n",
      "5    atemp  29.49\n",
      "6      hum  14.90\n",
      "1     mnth  12.33\n"
     ]
    }
   ],
   "source": [
    "build_model_with_vif(drop=['windchill', 'heat_index', 'temp', 'registered_rate'])"
   ]
  },
  {
   "cell_type": "markdown",
   "metadata": {},
   "source": [
    "Despite some columns are still having a pretty high VIF, the model provides a pretty good R-square, where the distance between train and test data is close enough, showing a little bit of underfit, but its the best model we can get from feature selection using VIF. Removing the rest of the columns with the highest VIF value makes the model worst by lowering the R-square of training data and increase the gap of underfit."
   ]
  },
  {
   "cell_type": "markdown",
   "metadata": {},
   "source": [
    "### 2.2.2. Multiple Linear Regression with RFE"
   ]
  },
  {
   "cell_type": "markdown",
   "metadata": {},
   "source": [
    "#### Model Builder"
   ]
  },
  {
   "cell_type": "markdown",
   "metadata": {},
   "source": [
    "One way of doing automatic feature selection is using recursive feature elimination, lets build a helper function to build the model, initialize RFE with the model and print the R-square of train and tests data."
   ]
  },
  {
   "cell_type": "code",
   "execution_count": 53,
   "metadata": {},
   "outputs": [],
   "source": [
    "def build_model_with_rfe(features):\n",
    "    scaler = MinMaxScaler()\n",
    "\n",
    "    y_train = df_train[['cnt']]\n",
    "    X_train = df_train.drop(columns=['cnt'])\n",
    "    X_train[X_train.columns] = scaler.fit_transform(X_train[X_train.columns])\n",
    "\n",
    "    model = RFE(LinearRegression(), n_features_to_select=features)\n",
    "    model.fit(X_train, y_train)\n",
    "\n",
    "    y_test = df_test[['cnt']]\n",
    "    X_test = df_test.drop(columns=['cnt'])\n",
    "    X_test[X_test.columns] = scaler.transform(X_test[X_test.columns])\n",
    "\n",
    "    print('R-square of train data: ', model.score(X_train, y_train))\n",
    "    print('R-square of tests data: ', model.score(X_test, y_test))\n",
    "    \n",
    "    return model, scaler"
   ]
  },
  {
   "cell_type": "markdown",
   "metadata": {},
   "source": [
    "#### Parameter Tuning"
   ]
  },
  {
   "cell_type": "markdown",
   "metadata": {},
   "source": [
    "Lets revisit the baseline of our model by not removing any columns."
   ]
  },
  {
   "cell_type": "code",
   "execution_count": 54,
   "metadata": {},
   "outputs": [
    {
     "name": "stdout",
     "output_type": "stream",
     "text": [
      "R-square of train data:  0.8494681686160885\n",
      "R-square of tests data:  0.866313245185808\n"
     ]
    }
   ],
   "source": [
    "build_model_with_rfe(features=len(df.columns));"
   ]
  },
  {
   "cell_type": "markdown",
   "metadata": {},
   "source": [
    "Now lets reduce the features to 15 and re-evaluate the model."
   ]
  },
  {
   "cell_type": "code",
   "execution_count": 55,
   "metadata": {},
   "outputs": [
    {
     "name": "stdout",
     "output_type": "stream",
     "text": [
      "R-square of train data:  0.8451394512954062\n",
      "R-square of tests data:  0.8559800484892088\n"
     ]
    }
   ],
   "source": [
    "build_model_with_rfe(features=15);"
   ]
  },
  {
   "cell_type": "markdown",
   "metadata": {},
   "source": [
    "With 15 features, the distance between R-square of train and test data is now closer, lets reduce the feature further and re-evaluate the model."
   ]
  },
  {
   "cell_type": "code",
   "execution_count": 56,
   "metadata": {},
   "outputs": [
    {
     "name": "stdout",
     "output_type": "stream",
     "text": [
      "R-square of train data:  0.8280902135277346\n",
      "R-square of tests data:  0.8290124327724514\n"
     ]
    }
   ],
   "source": [
    "build_model_with_rfe(features=8);"
   ]
  },
  {
   "cell_type": "markdown",
   "metadata": {},
   "source": [
    "With 8 features, it is now reaching the closest gap between train and test data, if we were to reduce them any further, it would probably be getting worse, lets validate them by reducing the features further."
   ]
  },
  {
   "cell_type": "code",
   "execution_count": 57,
   "metadata": {},
   "outputs": [
    {
     "name": "stdout",
     "output_type": "stream",
     "text": [
      "R-square of train data:  0.7961114758087624\n",
      "R-square of tests data:  0.772106589570906\n"
     ]
    }
   ],
   "source": [
    "build_model_with_rfe(features=6);"
   ]
  },
  {
   "cell_type": "markdown",
   "metadata": {},
   "source": [
    "By reducing the feature further, the R-square is getting worse both on the train and test data."
   ]
  },
  {
   "cell_type": "markdown",
   "metadata": {},
   "source": [
    "#### Conclusion"
   ]
  },
  {
   "cell_type": "markdown",
   "metadata": {},
   "source": [
    "The best model with a good R-square and close gap between train and test data is with 8 features."
   ]
  },
  {
   "cell_type": "code",
   "execution_count": 58,
   "metadata": {},
   "outputs": [
    {
     "name": "stdout",
     "output_type": "stream",
     "text": [
      "R-square of train data:  0.8280902135277346\n",
      "R-square of tests data:  0.8290124327724514\n"
     ]
    }
   ],
   "source": [
    "build_model_with_rfe(features=8);"
   ]
  },
  {
   "cell_type": "markdown",
   "metadata": {},
   "source": [
    "## 2.3. Model Selection"
   ]
  },
  {
   "cell_type": "markdown",
   "metadata": {},
   "source": [
    "### 2.3.1. Potential Models"
   ]
  },
  {
   "cell_type": "markdown",
   "metadata": {},
   "source": [
    "Before selecting any model, lets re-evaluate all models that we have created, and with potentially good R-square values."
   ]
  },
  {
   "cell_type": "markdown",
   "metadata": {},
   "source": [
    "#### Linear Model with Scaling"
   ]
  },
  {
   "cell_type": "code",
   "execution_count": 59,
   "metadata": {},
   "outputs": [
    {
     "name": "stdout",
     "output_type": "stream",
     "text": [
      "R-square of train data:  0.8494681686160885\n",
      "R-square of tests data:  0.866313245185808\n"
     ]
    }
   ],
   "source": [
    "build_model_with_scaling()"
   ]
  },
  {
   "cell_type": "markdown",
   "metadata": {},
   "source": [
    "#### Feature Selection with VIF"
   ]
  },
  {
   "cell_type": "code",
   "execution_count": 60,
   "metadata": {},
   "outputs": [
    {
     "name": "stdout",
     "output_type": "stream",
     "text": [
      "R-square of train data:  0.8464171952355763\n",
      "R-square of tests data:  0.8544770540942002\n",
      "\n",
      "  Features    VIF\n",
      "5    atemp  29.49\n",
      "6      hum  14.90\n",
      "1     mnth  12.33\n"
     ]
    }
   ],
   "source": [
    "build_model_with_vif(drop=['windchill', 'heat_index', 'temp', 'registered_rate'])"
   ]
  },
  {
   "cell_type": "markdown",
   "metadata": {},
   "source": [
    "#### Feature Selection using RFE"
   ]
  },
  {
   "cell_type": "code",
   "execution_count": 61,
   "metadata": {},
   "outputs": [
    {
     "name": "stdout",
     "output_type": "stream",
     "text": [
      "R-square of train data:  0.8280902135277346\n",
      "R-square of tests data:  0.8290124327724514\n"
     ]
    }
   ],
   "source": [
    "build_model_with_rfe(features=8);"
   ]
  },
  {
   "cell_type": "markdown",
   "metadata": {},
   "source": [
    "### 2.3.2. Best Possible Model"
   ]
  },
  {
   "cell_type": "markdown",
   "metadata": {},
   "source": [
    "All of the above model provide a good R-square value on the training data, but the best model should provide a R-square value on the test data as close as possible to the R-square of training data, therefore we can limit our choice to the feature selection using RFE. Feature selection using RFE provides a simpler model as it only uses 8 features compared to 16 features being used by feature selection using VIF, it also provides a model with smalest gap between R-square of train and test data."
   ]
  },
  {
   "cell_type": "code",
   "execution_count": 62,
   "metadata": {},
   "outputs": [
    {
     "name": "stdout",
     "output_type": "stream",
     "text": [
      "R-square of train data:  0.8280902135277346\n",
      "R-square of tests data:  0.8290124327724514\n"
     ]
    }
   ],
   "source": [
    "model, scaler = build_model_with_rfe(features=8)"
   ]
  },
  {
   "cell_type": "markdown",
   "metadata": {},
   "source": [
    "## 2.4. Model Evaluation"
   ]
  },
  {
   "cell_type": "markdown",
   "metadata": {},
   "source": [
    "### 2.4.1. Residual Analysis"
   ]
  },
  {
   "cell_type": "markdown",
   "metadata": {},
   "source": [
    "Now lets plot the error terms and validate our assumption that the errors are normally distributed."
   ]
  },
  {
   "cell_type": "code",
   "execution_count": 63,
   "metadata": {},
   "outputs": [
    {
     "data": {
      "image/png": "[encoded data removed]",
      "text/plain": [
       "<Figure size 411.75x360 with 1 Axes>"
      ]
     },
     "metadata": {
      "needs_background": "light"
     },
     "output_type": "display_data"
    }
   ],
   "source": [
    "y_train_pred = model.predict(scaler.transform(X_train))\n",
    "sns.displot((y_train[['cnt']] - y_train_pred), bins = 20, kde=True)\n",
    "\n",
    "plt.show()"
   ]
  },
  {
   "cell_type": "markdown",
   "metadata": {},
   "source": [
    "Our assumption have been validated, the error terms are normally distributed."
   ]
  },
  {
   "cell_type": "markdown",
   "metadata": {},
   "source": [
    "### 2.4.2. Model Prediction"
   ]
  },
  {
   "cell_type": "markdown",
   "metadata": {},
   "source": [
    "Now lets evaluate our model by running the prediction against our test data, and plot them accordingly."
   ]
  },
  {
   "cell_type": "code",
   "execution_count": 64,
   "metadata": {},
   "outputs": [
    {
     "data": {
      "image/png": "[encoded data removed]",
      "text/plain": [
       "<Figure size 432x288 with 1 Axes>"
      ]
     },
     "metadata": {
      "needs_background": "light"
     },
     "output_type": "display_data"
    }
   ],
   "source": [
    "y_pred = model.predict(scaler.transform(X_test))\n",
    "\n",
    "plt.scatter(y_test,y_pred)\n",
    "plt.show()"
   ]
  },
  {
   "cell_type": "markdown",
   "metadata": {},
   "source": [
    "As we can see, they resemble linear model and we can say that the model is good, lets re-evaluate our R-square values."
   ]
  },
  {
   "cell_type": "code",
   "execution_count": 65,
   "metadata": {},
   "outputs": [
    {
     "name": "stdout",
     "output_type": "stream",
     "text": [
      "R-square of train data:  0.8280902135277346\n",
      "R-square of tests data:  0.8290124327724514\n"
     ]
    }
   ],
   "source": [
    "print('R-square of train data: ', model.score(scaler.transform(X_train), y_train))\n",
    "print('R-square of tests data: ', model.score(scaler.transform(X_test), y_test))"
   ]
  },
  {
   "cell_type": "markdown",
   "metadata": {},
   "source": [
    "We also have a good R-square values of 0.82 on both training and testing data set, with only ~0.0009 difference."
   ]
  },
  {
   "cell_type": "markdown",
   "metadata": {},
   "source": [
    "### 2.4.3. Model Interpretation"
   ]
  },
  {
   "cell_type": "markdown",
   "metadata": {},
   "source": [
    "#### Intercept"
   ]
  },
  {
   "cell_type": "markdown",
   "metadata": {},
   "source": [
    "Lets output the intercept of our model."
   ]
  },
  {
   "cell_type": "code",
   "execution_count": 66,
   "metadata": {},
   "outputs": [
    {
     "data": {
      "text/plain": [
       "2934.8961936271817"
      ]
     },
     "execution_count": 66,
     "metadata": {},
     "output_type": "execute_result"
    }
   ],
   "source": [
    "model.estimator_.intercept_[0]"
   ]
  },
  {
   "cell_type": "markdown",
   "metadata": {},
   "source": [
    "#### Coeficients"
   ]
  },
  {
   "cell_type": "markdown",
   "metadata": {},
   "source": [
    "Lets output the coeficients of our model."
   ]
  },
  {
   "cell_type": "code",
   "execution_count": 67,
   "metadata": {},
   "outputs": [
    {
     "data": {
      "text/plain": [
       "{'yr': 1902.4137854971468,\n",
       " 'temp': 6125.121529066783,\n",
       " 'hum': -1663.7146901903857,\n",
       " 'windspeed': -1469.6705714825362,\n",
       " 'spring': -1050.6253260417755,\n",
       " 'rainy': -1337.132022150946,\n",
       " 'apparent_temperature': -1887.166531996481,\n",
       " 'windchill': -698.8550618924029}"
      ]
     },
     "execution_count": 67,
     "metadata": {},
     "output_type": "execute_result"
    }
   ],
   "source": [
    "dict(zip(X_train.columns[model.support_], model.estimator_.coef_[0]))"
   ]
  },
  {
   "cell_type": "markdown",
   "metadata": {},
   "source": [
    "From the above coeficients, we can see there are several interesting findings:\n",
    "1. `temp` is the most contributing variable, followed with `yr` and `apparent_temperature`.\n",
    "2. Only `spring` from season dummy variables selected as a feature.\n",
    "3. Only `rainy` from weather dummy variables selected as a feature.\n",
    "4. Only `apparent_temperature` and `windchill` from our derived metrics selected as a feature."
   ]
  },
  {
   "cell_type": "markdown",
   "metadata": {},
   "source": [
    "#### Mathematical Model"
   ]
  },
  {
   "cell_type": "markdown",
   "metadata": {},
   "source": [
    "From the above intercept and coeficients, we can build the linear regression mathematical model as follows."
   ]
  },
  {
   "cell_type": "markdown",
   "metadata": {},
   "source": [
    "$ cnt = 2934.8961936271817 + 1902.4137854971468 \\times yr + 6125.121529066783 \\times temp - 1663.7146901903857 \\times hum - 1469.6705714825362 \\times windspeed - 1050.6253260417755 \\times spring - 1337.132022150946 \\times rainy - 1887.166531996481 \\times apparent\\_temperator - 698.8550618924029 \\times windchill $"
   ]
  }
 ],
 "metadata": {
  "kernelspec": {
   "display_name": "Python 3",
   "language": "python",
   "name": "python3"
  },
  "language_info": {
   "codemirror_mode": {
    "name": "ipython",
    "version": 3
   },
   "file_extension": ".py",
   "mimetype": "text/x-python",
   "name": "python",
   "nbconvert_exporter": "python",
   "pygments_lexer": "ipython3",
   "version": "3.8.5"
  }
 },
 "nbformat": 4,
 "nbformat_minor": 4
}
